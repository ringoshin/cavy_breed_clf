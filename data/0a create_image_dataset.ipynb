{
 "cells": [
  {
   "cell_type": "code",
   "execution_count": 1,
   "metadata": {
    "colab": {
     "base_uri": "https://localhost:8080/",
     "height": 139
    },
    "colab_type": "code",
    "executionInfo": {
     "elapsed": 18596,
     "status": "ok",
     "timestamp": 1577729694723,
     "user": {
      "displayName": "Yeng-Loon Fan",
      "photoUrl": "https://lh3.googleusercontent.com/a-/AAuE7mDrfx80J2fGKOvdgY60KA7zIxDC4YaWHRri-2Jx=s64",
      "userId": "03858363354748736359"
     },
     "user_tz": -480
    },
    "id": "e_JY_AGjpyr9",
    "outputId": "ec1ab1ba-ef56-457a-d351-8541bb199a1f"
   },
   "outputs": [
    {
     "name": "stdout",
     "output_type": "stream",
     "text": [
      "Go to this URL in a browser: https://accounts.google.com/o/oauth2/auth?client_id=947318989803-6bn6qk8qdgf4n4g3pfee6491hc0brc4i.apps.googleusercontent.com&redirect_uri=urn%3aietf%3awg%3aoauth%3a2.0%3aoob&response_type=code&scope=email%20https%3a%2f%2fwww.googleapis.com%2fauth%2fdocs.test%20https%3a%2f%2fwww.googleapis.com%2fauth%2fdrive%20https%3a%2f%2fwww.googleapis.com%2fauth%2fdrive.photos.readonly%20https%3a%2f%2fwww.googleapis.com%2fauth%2fpeopleapi.readonly\n",
      "\n",
      "Enter your authorization code:\n",
      "··········\n",
      "Mounted at /gdrive\n",
      "/gdrive\n"
     ]
    }
   ],
   "source": [
    "# for Google Colab only: Mount my Google Drive\n",
    "from google.colab import drive\n",
    "drive.mount('/gdrive')\n",
    "%cd /gdrive"
   ]
  },
  {
   "cell_type": "code",
   "execution_count": 2,
   "metadata": {
    "colab": {
     "base_uri": "https://localhost:8080/",
     "height": 34
    },
    "colab_type": "code",
    "executionInfo": {
     "elapsed": 1462,
     "status": "ok",
     "timestamp": 1577729694727,
     "user": {
      "displayName": "Yeng-Loon Fan",
      "photoUrl": "https://lh3.googleusercontent.com/a-/AAuE7mDrfx80J2fGKOvdgY60KA7zIxDC4YaWHRri-2Jx=s64",
      "userId": "03858363354748736359"
     },
     "user_tz": -480
    },
    "id": "P5_PIVyfpy87",
    "outputId": "dc630b71-3ad1-4099-dc7c-a0e92b400e3a"
   },
   "outputs": [
    {
     "data": {
      "text/plain": [
       "'/gdrive'"
      ]
     },
     "execution_count": 2,
     "metadata": {
      "tags": []
     },
     "output_type": "execute_result"
    }
   ],
   "source": [
    "pwd"
   ]
  },
  {
   "cell_type": "code",
   "execution_count": 3,
   "metadata": {
    "colab": {
     "base_uri": "https://localhost:8080/",
     "height": 34
    },
    "colab_type": "code",
    "executionInfo": {
     "elapsed": 977,
     "status": "ok",
     "timestamp": 1577729694729,
     "user": {
      "displayName": "Yeng-Loon Fan",
      "photoUrl": "https://lh3.googleusercontent.com/a-/AAuE7mDrfx80J2fGKOvdgY60KA7zIxDC4YaWHRri-2Jx=s64",
      "userId": "03858363354748736359"
     },
     "user_tz": -480
    },
    "id": "eFPgZg7Jp3V7",
    "outputId": "624b2fa5-6c9d-44ae-fb70-b11633f31c67"
   },
   "outputs": [
    {
     "name": "stdout",
     "output_type": "stream",
     "text": [
      "/gdrive/My Drive/Colab Notebooks/cavy_breed_clf\n"
     ]
    }
   ],
   "source": [
    "# for Google Colab only: Navigate to my snaug project folder\n",
    "cd 'My Drive/Colab Notebooks/cavy_breed_clf'"
   ]
  },
  {
   "cell_type": "code",
   "execution_count": null,
   "metadata": {},
   "outputs": [],
   "source": []
  },
  {
   "cell_type": "code",
   "execution_count": 8,
   "metadata": {
    "colab": {},
    "colab_type": "code",
    "id": "NHZ1k4a6p-S8"
   },
   "outputs": [
    {
     "name": "stdout",
     "output_type": "stream",
     "text": [
      "/home/ringoshin/Projects/dev/cavy_breed_clf/data\r\n"
     ]
    }
   ],
   "source": [
    "# if running locally on laptop\n",
    "!pwd"
   ]
  },
  {
   "cell_type": "code",
   "execution_count": 11,
   "metadata": {},
   "outputs": [
    {
     "name": "stdout",
     "output_type": "stream",
     "text": [
      "/home/ringoshin/Projects/dev/cavy_breed_clf\n"
     ]
    }
   ],
   "source": [
    "%cd '../'"
   ]
  },
  {
   "cell_type": "code",
   "execution_count": null,
   "metadata": {},
   "outputs": [],
   "source": []
  },
  {
   "cell_type": "code",
   "execution_count": 13,
   "metadata": {
    "colab": {},
    "colab_type": "code",
    "id": "gE4YbcrYndyU"
   },
   "outputs": [],
   "source": [
    "import pandas as pd\n",
    "import os\n",
    "from sklearn.model_selection import train_test_split"
   ]
  },
  {
   "cell_type": "code",
   "execution_count": 14,
   "metadata": {
    "colab": {},
    "colab_type": "code",
    "id": "4Bcjfp5Rn2Vz"
   },
   "outputs": [],
   "source": [
    "def Save_Data(X, y, filename):\n",
    "    \"\"\"\n",
    "    Saving dataset variants raw, training, test, validation)\n",
    "    \"\"\"\n",
    "    df = pd.DataFrame({'image_path': X, 'breed': y})\n",
    "    return df.to_csv(filename, index=False)"
   ]
  },
  {
   "cell_type": "code",
   "execution_count": 15,
   "metadata": {
    "colab": {},
    "colab_type": "code",
    "id": "MuQmmc3KobwD"
   },
   "outputs": [],
   "source": [
    "seed = 42\n",
    "image_folders = ['American', 'Abyssinian', 'Silkie', 'Skinny']\n",
    "image_path = 'images'\n",
    "X, y = [], []"
   ]
  },
  {
   "cell_type": "code",
   "execution_count": 16,
   "metadata": {
    "colab": {
     "base_uri": "https://localhost:8080/",
     "height": 34
    },
    "colab_type": "code",
    "executionInfo": {
     "elapsed": 8857,
     "status": "ok",
     "timestamp": 1577729712035,
     "user": {
      "displayName": "Yeng-Loon Fan",
      "photoUrl": "https://lh3.googleusercontent.com/a-/AAuE7mDrfx80J2fGKOvdgY60KA7zIxDC4YaWHRri-2Jx=s64",
      "userId": "03858363354748736359"
     },
     "user_tz": -480
    },
    "id": "A5rFttYdoup4",
    "outputId": "66b2393a-dac6-4888-91c9-7104104fef93"
   },
   "outputs": [
    {
     "name": "stdout",
     "output_type": "stream",
     "text": [
      " > Creating datasets from images...\n"
     ]
    }
   ],
   "source": [
    "print(\" > Creating datasets from images...\")\n",
    "for folder_name in image_folders:\n",
    "    image_list_path = os.path.join(image_path, folder_name)\n",
    "    for path, dirs, files in os.walk(image_list_path):\n",
    "        for filename in files:\n",
    "            X.append(os.path.join(path,filename))\n",
    "            y.append(folder_name)"
   ]
  },
  {
   "cell_type": "code",
   "execution_count": 20,
   "metadata": {},
   "outputs": [
    {
     "name": "stdout",
     "output_type": "stream",
     "text": [
      "1631 1631\n",
      "['images/American/american_018.jpg', 'images/American/american_132.jpg', 'images/American/american_222.jpg']\n",
      "['American', 'American', 'American']\n"
     ]
    }
   ],
   "source": [
    "print(len(X), len(y))\n",
    "print(X[:3])\n",
    "print(y[:3])"
   ]
  },
  {
   "cell_type": "code",
   "execution_count": null,
   "metadata": {},
   "outputs": [],
   "source": []
  },
  {
   "cell_type": "code",
   "execution_count": 21,
   "metadata": {
    "colab": {},
    "colab_type": "code",
    "id": "82VfMXbuo62i"
   },
   "outputs": [],
   "source": [
    "# Split for the test dataset\n",
    "X_train_val, X_test, y_train_val, y_test = train_test_split(X, y, \n",
    "                                                            test_size=0.2, \n",
    "                                                            shuffle=True, \n",
    "                                                            stratify= y, \n",
    "                                                            random_state=seed)"
   ]
  },
  {
   "cell_type": "code",
   "execution_count": 23,
   "metadata": {
    "colab": {},
    "colab_type": "code",
    "id": "osV6-L4wo7zg"
   },
   "outputs": [],
   "source": [
    "# Split for the training and validation datasets\n",
    "X_train, X_val, y_train, y_val = train_test_split(X_train_val, \n",
    "                                                  y_train_val, \n",
    "                                                  test_size=0.2, \n",
    "                                                  shuffle=True, \n",
    "                                                  stratify= y_train_val, \n",
    "                                                  random_state=seed)"
   ]
  },
  {
   "cell_type": "code",
   "execution_count": null,
   "metadata": {},
   "outputs": [],
   "source": []
  },
  {
   "cell_type": "code",
   "execution_count": 29,
   "metadata": {},
   "outputs": [
    {
     "name": "stdout",
     "output_type": "stream",
     "text": [
      "1043 1043\n",
      "['images/American/american_2143.jpg', 'images/American/piggy_301.jpg', 'images/Abyssinian/abyssinian_1653.jpg']\n",
      "['American', 'American', 'Abyssinian']\n"
     ]
    }
   ],
   "source": [
    "print(len(X_train), len(y_train))\n",
    "print(X_train[:3])\n",
    "print(y_train[:3])"
   ]
  },
  {
   "cell_type": "code",
   "execution_count": 30,
   "metadata": {},
   "outputs": [
    {
     "name": "stdout",
     "output_type": "stream",
     "text": [
      "261 261\n",
      "['images/Silkie/silkie_692.jpg', 'images/Skinny/skinny_248.jpg', 'images/Abyssinian/abyssinian_1387.jpg']\n",
      "['Silkie', 'Skinny', 'Abyssinian']\n"
     ]
    }
   ],
   "source": [
    "print(len(X_val), len(y_val))\n",
    "print(X_val[:3])\n",
    "print(y_val[:3])"
   ]
  },
  {
   "cell_type": "code",
   "execution_count": 31,
   "metadata": {},
   "outputs": [
    {
     "name": "stdout",
     "output_type": "stream",
     "text": [
      "327 327\n",
      "['images/Skinny/skinny_294.jpg', 'images/Abyssinian/abyssinian_083.jpg', 'images/Abyssinian/abyssinian_1592.jpg']\n",
      "['Skinny', 'Abyssinian', 'Abyssinian']\n"
     ]
    }
   ],
   "source": [
    "print(len(X_test), len(y_test))\n",
    "print(X_test[:3])\n",
    "print(y_test[:3])"
   ]
  },
  {
   "cell_type": "code",
   "execution_count": null,
   "metadata": {},
   "outputs": [],
   "source": []
  },
  {
   "cell_type": "code",
   "execution_count": 28,
   "metadata": {
    "colab": {
     "base_uri": "https://localhost:8080/",
     "height": 294
    },
    "colab_type": "code",
    "executionInfo": {
     "elapsed": 751,
     "status": "ok",
     "timestamp": 1577729781648,
     "user": {
      "displayName": "Yeng-Loon Fan",
      "photoUrl": "https://lh3.googleusercontent.com/a-/AAuE7mDrfx80J2fGKOvdgY60KA7zIxDC4YaWHRri-2Jx=s64",
      "userId": "03858363354748736359"
     },
     "user_tz": -480
    },
    "id": "vtodlooABNl4",
    "outputId": "f49fc40c-0a5a-45ab-e1b0-47076c55b142"
   },
   "outputs": [
    {
     "data": {
      "image/png": "[encoded data removed]",
      "text/plain": [
       "<Figure size 432x288 with 3 Axes>"
      ]
     },
     "metadata": {
      "needs_background": "light"
     },
     "output_type": "display_data"
    }
   ],
   "source": [
    "# check distributions\n",
    "import matplotlib.pyplot as plt\n",
    "\n",
    "fig, axs = plt.subplots(3)\n",
    "fig.suptitle('Breed Distributions')\n",
    "_ = axs[0].hist(y_train)\n",
    "_ = axs[1].hist(y_val)\n",
    "_ = axs[2].hist(y_test)\n",
    "plt.show()"
   ]
  },
  {
   "cell_type": "code",
   "execution_count": null,
   "metadata": {},
   "outputs": [],
   "source": []
  },
  {
   "cell_type": "code",
   "execution_count": 0,
   "metadata": {
    "colab": {
     "base_uri": "https://localhost:8080/",
     "height": 34
    },
    "colab_type": "code",
    "executionInfo": {
     "elapsed": 6220,
     "status": "ok",
     "timestamp": 1577034300620,
     "user": {
      "displayName": "Yeng-Loon Fan",
      "photoUrl": "https://lh3.googleusercontent.com/a-/AAuE7mDrfx80J2fGKOvdgY60KA7zIxDC4YaWHRri-2Jx=s64",
      "userId": "03858363354748736359"
     },
     "user_tz": -480
    },
    "id": "0IfG0EKkpG0-",
    "outputId": "3ec5a338-d863-4ae2-fbd7-8fb006a7d158"
   },
   "outputs": [
    {
     "name": "stdout",
     "output_type": "stream",
     "text": [
      " > done!\n"
     ]
    }
   ],
   "source": [
    "Save_Data(X, y, 'data/cavy_data_raw.csv')\n",
    "Save_Data(X_train, y_train, 'data/cavy_data_train.csv')\n",
    "Save_Data(X_val, y_val, 'data/cavy_data_val.csv')\n",
    "Save_Data(X_test, y_test, 'data/cavy_data_test.csv')\n",
    "\n",
    "print(\" > done!\")"
   ]
  },
  {
   "cell_type": "code",
   "execution_count": 0,
   "metadata": {
    "colab": {},
    "colab_type": "code",
    "id": "gv8r5KvFpI9f"
   },
   "outputs": [],
   "source": []
  }
 ],
 "metadata": {
  "accelerator": "GPU",
  "colab": {
   "collapsed_sections": [],
   "name": "create_image_dataset.ipynb",
   "provenance": []
  },
  "kernelspec": {
   "display_name": "cavy_breed_clf",
   "language": "python",
   "name": "cavy_breed_clf"
  },
  "language_info": {
   "codemirror_mode": {
    "name": "ipython",
    "version": 3
   },
   "file_extension": ".py",
   "mimetype": "text/x-python",
   "name": "python",
   "nbconvert_exporter": "python",
   "pygments_lexer": "ipython3",
   "version": "3.6.9"
  }
 },
 "nbformat": 4,
 "nbformat_minor": 1
}
